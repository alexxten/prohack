{
  "nbformat": 4,
  "nbformat_minor": 0,
  "metadata": {
    "colab": {
      "name": "prohack_v1_svr.ipynb",
      "provenance": [],
      "collapsed_sections": []
    },
    "kernelspec": {
      "name": "python3",
      "display_name": "Python 3"
    }
  },
  "cells": [
    {
      "cell_type": "code",
      "metadata": {
        "id": "IKRkAawkwjLr",
        "colab_type": "code",
        "colab": {}
      },
      "source": [
        "import pandas as pd\n",
        "import numpy as np\n",
        "\n",
        "from sklearn.svm import SVR\n",
        "from sklearn.model_selection import train_test_split\n",
        "from sklearn.metrics import mean_squared_error\n",
        "import matplotlib.pyplot as plt"
      ],
      "execution_count": 0,
      "outputs": []
    },
    {
      "cell_type": "markdown",
      "metadata": {
        "id": "rBzfiIDM8KfC",
        "colab_type": "text"
      },
      "source": [
        "# 1. Обучение на датасете train_del_70_fill_mean"
      ]
    },
    {
      "cell_type": "code",
      "metadata": {
        "id": "jQDS4gKw8D__",
        "colab_type": "code",
        "colab": {}
      },
      "source": [
        "data_1 = pd.read_csv('/content/train_del_70_fill_mean.csv')\n",
        "data_1 = data_1.drop('galaxy', axis=1)\n",
        "X_1 = data_1.iloc[:, :-1]\n",
        "Y_1 = data_1['y']"
      ],
      "execution_count": 0,
      "outputs": []
    },
    {
      "cell_type": "code",
      "metadata": {
        "id": "qw4BQCFH8x0q",
        "colab_type": "code",
        "colab": {}
      },
      "source": [
        "X_1_train, X_1_test, Y_1_train, Y_1_test = train_test_split(X_1, Y_1, test_size=0.3, random_state=42)"
      ],
      "execution_count": 0,
      "outputs": []
    },
    {
      "cell_type": "code",
      "metadata": {
        "id": "oTInn5J0-3yh",
        "colab_type": "code",
        "colab": {
          "base_uri": "https://localhost:8080/",
          "height": 51
        },
        "outputId": "03b6f8cb-d10e-427f-d234-6324c74e7410"
      },
      "source": [
        "svr_poly_1 = SVR(kernel='poly')\n",
        "svr_poly_1.fit(X_1_train, Y_1_train)"
      ],
      "execution_count": 49,
      "outputs": [
        {
          "output_type": "execute_result",
          "data": {
            "text/plain": [
              "SVR(C=1.0, cache_size=200, coef0=0.0, degree=3, epsilon=0.1, gamma='scale',\n",
              "    kernel='poly', max_iter=-1, shrinking=True, tol=0.001, verbose=False)"
            ]
          },
          "metadata": {
            "tags": []
          },
          "execution_count": 49
        }
      ]
    },
    {
      "cell_type": "code",
      "metadata": {
        "id": "BYC9j_he_P8y",
        "colab_type": "code",
        "colab": {
          "base_uri": "https://localhost:8080/",
          "height": 51
        },
        "outputId": "96e0afc9-75b2-4296-864d-3a186bb5fc23"
      },
      "source": [
        "Y_1_pred = svr_poly_1.predict(X_1_test)\n",
        "MSE_1 = mean_squared_error(Y_1_test, Y_1_pred)\n",
        "print(f'MSE: {MSE_1}\\nRMSE: {MSE_1 ** 0.5}')"
      ],
      "execution_count": 51,
      "outputs": [
        {
          "output_type": "stream",
          "text": [
            "MSE: 0.006811078603516904\n",
            "RMSE: 0.08252925907529343\n"
          ],
          "name": "stdout"
        }
      ]
    },
    {
      "cell_type": "markdown",
      "metadata": {
        "id": "17CwefSqAU-v",
        "colab_type": "text"
      },
      "source": [
        "## 2. Обучение на датасете train_del_70_iterative_imp"
      ]
    },
    {
      "cell_type": "code",
      "metadata": {
        "id": "i8FhsT_7_z0d",
        "colab_type": "code",
        "colab": {}
      },
      "source": [
        "data_2 = pd.read_csv('/content/train_del_70_iterative_imp.csv')\n",
        "X_2 = data_2.iloc[:, :-1]\n",
        "Y_2 = data_2['y']"
      ],
      "execution_count": 0,
      "outputs": []
    },
    {
      "cell_type": "code",
      "metadata": {
        "id": "C_rYnI8QGd75",
        "colab_type": "code",
        "colab": {}
      },
      "source": [
        "X_2_train, X_2_test, Y_2_train, Y_2_test = train_test_split(X_2, Y_2, test_size=0.3, random_state=42)"
      ],
      "execution_count": 0,
      "outputs": []
    },
    {
      "cell_type": "code",
      "metadata": {
        "id": "K73CA9tOGlp3",
        "colab_type": "code",
        "colab": {
          "base_uri": "https://localhost:8080/",
          "height": 51
        },
        "outputId": "c105bc50-350e-439e-a71f-65c24cef70de"
      },
      "source": [
        "svr_poly_2 = SVR(kernel='poly')\n",
        "svr_poly_2.fit(X_2_train, Y_2_train)"
      ],
      "execution_count": 58,
      "outputs": [
        {
          "output_type": "execute_result",
          "data": {
            "text/plain": [
              "SVR(C=1.0, cache_size=200, coef0=0.0, degree=3, epsilon=0.1, gamma='scale',\n",
              "    kernel='poly', max_iter=-1, shrinking=True, tol=0.001, verbose=False)"
            ]
          },
          "metadata": {
            "tags": []
          },
          "execution_count": 58
        }
      ]
    },
    {
      "cell_type": "code",
      "metadata": {
        "id": "Br0uvNv3GpCT",
        "colab_type": "code",
        "colab": {
          "base_uri": "https://localhost:8080/",
          "height": 51
        },
        "outputId": "71188c72-699f-4f23-cd7d-0893a66f5e22"
      },
      "source": [
        "Y_2_pred = svr_poly_2.predict(X_2_test)\n",
        "MSE_2 = mean_squared_error(Y_2_test, Y_2_pred)\n",
        "print(f'MSE: {MSE_2}\\nRMSE: {MSE_2 ** 0.5}')"
      ],
      "execution_count": 59,
      "outputs": [
        {
          "output_type": "stream",
          "text": [
            "MSE: 0.006525042892601747\n",
            "RMSE: 0.0807777376051208\n"
          ],
          "name": "stdout"
        }
      ]
    },
    {
      "cell_type": "markdown",
      "metadata": {
        "id": "UBLLRzerKwwz",
        "colab_type": "text"
      },
      "source": [
        "## 3. Обучение на датасете train_del_70_iterative_imp - PCA"
      ]
    },
    {
      "cell_type": "code",
      "metadata": {
        "id": "boGVfGW3HArU",
        "colab_type": "code",
        "colab": {}
      },
      "source": [
        "data_3 = pd.read_csv('/content/train_del_70_iterative_imp.csv')\n",
        "X_3 = data_3.iloc[:, :-1]\n",
        "Y_3 = data_3['y']"
      ],
      "execution_count": 0,
      "outputs": []
    },
    {
      "cell_type": "code",
      "metadata": {
        "id": "-MhBqlzuLt_Q",
        "colab_type": "code",
        "colab": {}
      },
      "source": [
        "from sklearn.decomposition import PCA\n",
        "pca_3 = PCA(n_components=2)\n",
        "X_3 = pca_3.fit_transform(X_3)"
      ],
      "execution_count": 0,
      "outputs": []
    },
    {
      "cell_type": "code",
      "metadata": {
        "id": "wCOesKh0K8gy",
        "colab_type": "code",
        "colab": {}
      },
      "source": [
        "X_3_train, X_3_test, Y_3_train, Y_3_test = train_test_split(X_3, Y_3, test_size=0.3, random_state=42)"
      ],
      "execution_count": 0,
      "outputs": []
    },
    {
      "cell_type": "code",
      "metadata": {
        "id": "8NThbdaRK-Nc",
        "colab_type": "code",
        "colab": {
          "base_uri": "https://localhost:8080/",
          "height": 51
        },
        "outputId": "32df1978-97e6-40c2-ff59-a587dff3d0e6"
      },
      "source": [
        "svr_poly_3 = SVR(kernel='poly')\n",
        "svr_poly_3.fit(X_3_train, Y_3_train)"
      ],
      "execution_count": 66,
      "outputs": [
        {
          "output_type": "execute_result",
          "data": {
            "text/plain": [
              "SVR(C=1.0, cache_size=200, coef0=0.0, degree=3, epsilon=0.1, gamma='scale',\n",
              "    kernel='poly', max_iter=-1, shrinking=True, tol=0.001, verbose=False)"
            ]
          },
          "metadata": {
            "tags": []
          },
          "execution_count": 66
        }
      ]
    },
    {
      "cell_type": "code",
      "metadata": {
        "id": "DApaGChRK-4U",
        "colab_type": "code",
        "colab": {
          "base_uri": "https://localhost:8080/",
          "height": 51
        },
        "outputId": "377cc42f-1c71-45d2-8e17-71b506dfd77e"
      },
      "source": [
        "Y_3_pred = svr_poly_3.predict(X_3_test)\n",
        "MSE_3 = mean_squared_error(Y_3_test, Y_3_pred)\n",
        "print(f'MSE: {MSE_3}\\nRMSE: {MSE_3 ** 0.5}')"
      ],
      "execution_count": 67,
      "outputs": [
        {
          "output_type": "stream",
          "text": [
            "MSE: 0.0063039243350546895\n",
            "RMSE: 0.07939725647057769\n"
          ],
          "name": "stdout"
        }
      ]
    },
    {
      "cell_type": "code",
      "metadata": {
        "id": "9O_3yCWQMp-p",
        "colab_type": "code",
        "colab": {}
      },
      "source": [
        ""
      ],
      "execution_count": 0,
      "outputs": []
    }
  ]
}